{
 "cells": [
  {
   "cell_type": "code",
   "execution_count": 8,
   "metadata": {},
   "outputs": [],
   "source": [
    "from transformers import *\n",
    "import torch as t\n",
    "import os\n",
    "import warnings\n",
    "\n",
    "warnings.filterwarnings(\"ignore\")"
   ]
  },
  {
   "cell_type": "code",
   "execution_count": 9,
   "metadata": {},
   "outputs": [],
   "source": [
    "def get_latest_model_folder(model_dir, file_start):\n",
    "    model_files = [file for file in os.listdir(model_dir) if file_start in file]\n",
    "    model_files.sort()\n",
    "    return os.path.join(model_dir, model_files[-1])\n"
   ]
  },
  {
   "cell_type": "code",
   "execution_count": 10,
   "metadata": {},
   "outputs": [
    {
     "data": {
      "text/plain": [
       "'saved_runs/mod_digit_add_2024-09-16_23-55'"
      ]
     },
     "execution_count": 10,
     "metadata": {},
     "output_type": "execute_result"
    }
   ],
   "source": [
    "model_dir = 'saved_runs'\n",
    "file_start = 'mod_digit_add_'\n",
    "config = Config()\n",
    "latest_model_folder = get_latest_model_folder(model_dir, file_start)\n",
    "latest_model_folder"
   ]
  },
  {
   "cell_type": "code",
   "execution_count": 15,
   "metadata": {},
   "outputs": [],
   "source": [
    "num_models = 10 \n",
    "num_epochs = 15000\n",
    "models = [Transformer(config) for _ in range(num_models)]\n",
    "weights = []#[t.load(latest_model_folder + '/init.pth')]\n",
    "weights += [t.load(latest_model_folder + f'/{int((i*num_epochs)/(num_models))}.pth') for i in range(1,num_models - 1)] \n",
    "#weights += [t.load(latest_model_folder + '/final.pth')]\n",
    "\n",
    "idx = []\n",
    "\n",
    "\n",
    "for i in range(len(weights)):\n",
    "\n",
    "    models[i].load_state_dict(weights[i]['model'])\n",
    "    models[i].eval()\n",
    "\n",
    "tokenizer = Tokenizer(config)"
   ]
  },
  {
   "cell_type": "code",
   "execution_count": 16,
   "metadata": {},
   "outputs": [
    {
     "name": "stdout",
     "output_type": "stream",
     "text": [
      "Calculating accuracy for model 0\n",
      "Accuracy: 49.81%, Count: 3152\r"
     ]
    }
   ],
   "source": [
    "def get_accuracy(model):\n",
    "\n",
    "    correct = 0\n",
    "    count = 0\n",
    "    for i in range(113):\n",
    "        for j in range(113):\n",
    "            count += 1\n",
    "            print(f\"Accuracy: {(correct/count):.2%}, Count: {count}\", end = '\\r')\n",
    "            correct_answer = (i + j) % 113\n",
    "            lsi = [int(k) for k in str(i)]\n",
    "            lsj = [int(k) for k in str(j)]\n",
    "            question = lsi + [10] + lsj + [11]\n",
    "\n",
    "            ll = len(question)\n",
    "            #print(\"q:\", question)\n",
    "            pred = model.generate_greedy(question)\n",
    "            answer = pred[ll: -1]\n",
    "            try:\n",
    "                answer = int(tokenizer.detokenize(answer))\n",
    "            except:\n",
    "                continue\n",
    "            #print(\"p\", pred)\n",
    "            #print(\"a\", answer)\n",
    "\n",
    "            if answer == correct_answer:\n",
    "                correct += 1\n",
    "            \n",
    "            \n",
    "    print('\\n')\n",
    "\n",
    "for i, model in enumerate(models):\n",
    "    print(f\"Calculating accuracy for model {i}\")\n",
    "    get_accuracy(model)\n",
    "\n",
    "         "
   ]
  },
  {
   "cell_type": "code",
   "execution_count": 40,
   "metadata": {},
   "outputs": [
    {
     "name": "stdout",
     "output_type": "stream",
     "text": [
      "Prediction: [1, 10, 2, 1, 11, 2, 2, 12]\n"
     ]
    }
   ],
   "source": [
    "test_sentence = \"1+1=\"\n",
    "test_sentence_tokenized = tokenizer.tokenize(test_sentence)\n",
    "\n",
    "pred = model.generate_greedy([1, 10, 2,1, 11])\n",
    "print(\"Prediction:\", pred)"
   ]
  },
  {
   "cell_type": "code",
   "execution_count": 41,
   "metadata": {},
   "outputs": [
    {
     "data": {
      "text/plain": [
       "[1, 10, 1, 11]"
      ]
     },
     "execution_count": 41,
     "metadata": {},
     "output_type": "execute_result"
    }
   ],
   "source": [
    "test_sentence_tokenized"
   ]
  },
  {
   "cell_type": "code",
   "execution_count": null,
   "metadata": {},
   "outputs": [],
   "source": []
  }
 ],
 "metadata": {
  "kernelspec": {
   "display_name": "transformer-addition-length-generalization",
   "language": "python",
   "name": "python3"
  },
  "language_info": {
   "codemirror_mode": {
    "name": "ipython",
    "version": 3
   },
   "file_extension": ".py",
   "mimetype": "text/x-python",
   "name": "python",
   "nbconvert_exporter": "python",
   "pygments_lexer": "ipython3",
   "version": "3.12.4"
  }
 },
 "nbformat": 4,
 "nbformat_minor": 2
}
