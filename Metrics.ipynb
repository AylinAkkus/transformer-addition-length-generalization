{
 "cells": [
  {
   "cell_type": "code",
   "execution_count": 1,
   "metadata": {},
   "outputs": [
    {
     "name": "stdout",
     "output_type": "stream",
     "text": [
      "Using device: cpu\n",
      "fixed_digit: False\n",
      "Training for 3000 epochs\n",
      "Batch size: 256\n",
      "Learning rate: 0.001\n",
      "Train on 0.5 of the data\n",
      "Saving model every 5 epochs\n"
     ]
    }
   ],
   "source": [
    "from model import Transformer\n",
    "from config import Config\n",
    "from tokenizer import Tokenizer\n",
    "import torch as t\n",
    "import os\n",
    "import ast\n",
    "import pandas as pd\n",
    "import warnings\n",
    "import json\n",
    "from helpers import take_metrics, extract_answer_from_prediction\n",
    "\n",
    "warnings.filterwarnings(\"ignore\")"
   ]
  },
  {
   "cell_type": "code",
   "execution_count": 2,
   "metadata": {},
   "outputs": [],
   "source": [
    "# Load the model\n",
    "path = \"saved_runs/variable_digit_add_50/final.pth\""
   ]
  },
  {
   "cell_type": "code",
   "execution_count": 3,
   "metadata": {},
   "outputs": [
    {
     "name": "stdout",
     "output_type": "stream",
     "text": [
      "len train 5030\n",
      "len test 4970\n",
      "counts {'train_total': 5030, 'test_total': 4970, 'train_digit_0': 5030, 'test_digit_0': 4970, 'train_digit_1': 4987, 'test_digit_1': 4958, 'train_digit_2': 2460, 'test_digit_2': 2490}\n",
      "frequencies {'train_total': 5030, 'test_total': 4933, 'train_digit_0': 5030, 'test_digit_0': 4945, 'train_digit_1': 4987, 'test_digit_1': 4943, 'test_digit_2': 2489, 'train_digit_2': 2460}\n",
      "metrics {'train_total_accuracy': 1.0, 'test_total_accuracy': 0.9925553319919517, 'train_digit_0_accuracy': 1.0, 'test_digit_0_accuracy': 0.9949698189134809, 'train_digit_1_accuracy': 1.0, 'test_digit_1_accuracy': 0.9969745865268254, 'test_digit_2_accuracy': 0.9995983935742971, 'train_digit_2_accuracy': 1.0}\n"
     ]
    }
   ],
   "source": [
    "take_metrics(path)"
   ]
  },
  {
   "cell_type": "code",
   "execution_count": 12,
   "metadata": {},
   "outputs": [
    {
     "name": "stdout",
     "output_type": "stream",
     "text": [
      "Test sentence: 56+52=\n",
      "Answer: 108\n"
     ]
    }
   ],
   "source": [
    "tokenizer = Tokenizer(Config())\n",
    "model = Transformer(Config())\n",
    "model.load_state_dict(t.load(path, map_location = \"cpu\")[\"model\"])\n",
    "model.eval()\n",
    "\n",
    "test_sentence = \"56+52=\"\n",
    "test_sentence_tokenized = tokenizer.tokenize(test_sentence)\n",
    "\n",
    "pred = model.generate_greedy(test_sentence_tokenized)\n",
    "answer = extract_answer_from_prediction(pred, tokenizer)\n",
    "print(\"Test sentence:\", test_sentence)\n",
    "print(\"Answer:\", answer)"
   ]
  },
  {
   "cell_type": "code",
   "execution_count": null,
   "metadata": {},
   "outputs": [],
   "source": []
  },
  {
   "cell_type": "code",
   "execution_count": null,
   "metadata": {},
   "outputs": [],
   "source": []
  },
  {
   "cell_type": "code",
   "execution_count": null,
   "metadata": {},
   "outputs": [],
   "source": []
  },
  {
   "cell_type": "code",
   "execution_count": null,
   "metadata": {},
   "outputs": [],
   "source": []
  }
 ],
 "metadata": {
  "kernelspec": {
   "display_name": "transformer-addition-length-generalization",
   "language": "python",
   "name": "python3"
  },
  "language_info": {
   "codemirror_mode": {
    "name": "ipython",
    "version": 3
   },
   "file_extension": ".py",
   "mimetype": "text/x-python",
   "name": "python",
   "nbconvert_exporter": "python",
   "pygments_lexer": "ipython3",
   "version": "3.8.0"
  }
 },
 "nbformat": 4,
 "nbformat_minor": 2
}
