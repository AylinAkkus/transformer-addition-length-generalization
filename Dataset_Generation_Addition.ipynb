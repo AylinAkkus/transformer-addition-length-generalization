{
 "cells": [
  {
   "cell_type": "code",
   "execution_count": 1,
   "metadata": {},
   "outputs": [],
   "source": [
    "from transformers import *\n",
    "import random"
   ]
  },
  {
   "cell_type": "code",
   "execution_count": 16,
   "metadata": {},
   "outputs": [
    {
     "data": {
      "text/plain": [
       "[[16593, 64017],\n",
       " [55029, 30561],\n",
       " [68835, 69465],\n",
       " [30731, 83841],\n",
       " [15174, 85801],\n",
       " [22338, 83629],\n",
       " [45466, 3942],\n",
       " [15298, 62367],\n",
       " [82217, 99282],\n",
       " [41418, 16164]]"
      ]
     },
     "execution_count": 16,
     "metadata": {},
     "output_type": "execute_result"
    }
   ],
   "source": [
    "def gen_train_test_addition(train_frac, val_frac, num_digits):\n",
    "    num_pairs = 10**(num_digits*2)\n",
    "    train = [random.sample(range(10**num_digits), 2) for _ in range(int(train_frac * num_pairs))]\n",
    "    val = [random.sample(range(10**num_digits), 2) for _ in range(int(val_frac * num_pairs))]\t\n",
    "\n",
    "    with open('train.csv', 'w') as f:\n",
    "        for pair in train:\n",
    "            f.write(f'{pair[0]},{pair[1]},{pair[0]+pair[1]}\\n')\n",
    "    with open('val.csv', 'w') as f:\n",
    "        for pair in val:\n",
    "            f.write(f'{pair[0]},{pair[1]},{pair[0]+pair[1]}\\n')\n",
    "    return train, val\n",
    "\n",
    "gen_train_test_addition(0.0001, 0.0001, 5)[0][:10]"
   ]
  }
 ],
 "metadata": {
  "kernelspec": {
   "display_name": "transformer-addition-length-generalization",
   "language": "python",
   "name": "python3"
  },
  "language_info": {
   "codemirror_mode": {
    "name": "ipython",
    "version": 3
   },
   "file_extension": ".py",
   "mimetype": "text/x-python",
   "name": "python",
   "nbconvert_exporter": "python",
   "pygments_lexer": "ipython3",
   "version": "3.8.0"
  }
 },
 "nbformat": 4,
 "nbformat_minor": 2
}
