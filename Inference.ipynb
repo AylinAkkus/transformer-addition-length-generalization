{
 "cells": [
  {
   "cell_type": "markdown",
   "metadata": {},
   "source": [
    "# Example Model Inference"
   ]
  },
  {
   "cell_type": "code",
   "execution_count": 2,
   "metadata": {},
   "outputs": [],
   "source": [
    "from model import Transformer\n",
    "from config import Config\n",
    "from tokenizer import Tokenizer\n",
    "import torch as t\n",
    "import warnings\n",
    "import json\n",
    "from helpers import extract_answer_from_prediction\n",
    "\n",
    "warnings.filterwarnings(\"ignore\")"
   ]
  },
  {
   "cell_type": "code",
   "execution_count": 3,
   "metadata": {},
   "outputs": [
    {
     "data": {
      "text/plain": [
       "Config(lr=0.001, weight_decay=1.0, batch_size=256, p=100, d_model=128, fn_name='add', frac_train=0.5, num_epochs=3000, save_models=True, save_every=5, fixed_digit=False, n_warmup=10, stopping_thresh=-1, seed=0, num_layers=1, batch_style='full', d_vocab=14, num_digits=3, n_ctx=12, d_mlp=512, num_heads=4, act_type='ReLU', device=device(type='cuda'), use_ln=False, take_metrics_every_n_epochs=10)"
      ]
     },
     "execution_count": 3,
     "metadata": {},
     "output_type": "execute_result"
    }
   ],
   "source": [
    "dir_path = \"saved_runs/variable_digit_add_50\"\n",
    "model_path = f\"{dir_path}/final.pth\"\n",
    "\n",
    "# read the config file\n",
    "config_dict = json.load(open(f\"{dir_path}/config.json\"))\n",
    "config = Config(**config_dict)\n",
    "config"
   ]
  },
  {
   "cell_type": "code",
   "execution_count": 4,
   "metadata": {},
   "outputs": [],
   "source": [
    "device = t.device(\"cuda\" if t.cuda.is_available() else \"cpu\")\n",
    "tokenizer = Tokenizer(config)\n",
    "model = Transformer(config)\n",
    "model.load_state_dict(t.load(model_path, map_location = device)[\"model\"])\n",
    "model = model.eval()"
   ]
  },
  {
   "cell_type": "code",
   "execution_count": 5,
   "metadata": {},
   "outputs": [
    {
     "name": "stdout",
     "output_type": "stream",
     "text": [
      "Test sentence: 56+52=\n",
      "Answer: 108\n"
     ]
    }
   ],
   "source": [
    "test_sentence = \"56+52=\"\n",
    "test_sentence_tokenized = tokenizer.tokenize(test_sentence)\n",
    "\n",
    "pred = model.generate_greedy(test_sentence_tokenized)\n",
    "answer = extract_answer_from_prediction(pred, tokenizer)\n",
    "print(\"Test sentence:\", test_sentence)\n",
    "print(\"Answer:\", answer)"
   ]
  }
 ],
 "metadata": {
  "kernelspec": {
   "display_name": "transformer-addition-length-generalization",
   "language": "python",
   "name": "python3"
  },
  "language_info": {
   "codemirror_mode": {
    "name": "ipython",
    "version": 3
   },
   "file_extension": ".py",
   "mimetype": "text/x-python",
   "name": "python",
   "nbconvert_exporter": "python",
   "pygments_lexer": "ipython3",
   "version": "3.12.4"
  }
 },
 "nbformat": 4,
 "nbformat_minor": 2
}
