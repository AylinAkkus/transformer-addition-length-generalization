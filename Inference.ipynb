{
 "cells": [
  {
   "cell_type": "code",
   "execution_count": 6,
   "metadata": {},
   "outputs": [],
   "source": [
    "from transformers import *\n",
    "import torch as t"
   ]
  },
  {
   "cell_type": "code",
   "execution_count": 7,
   "metadata": {},
   "outputs": [
    {
     "name": "stderr",
     "output_type": "stream",
     "text": [
      "/tmp/ipykernel_2970577/1565448963.py:4: FutureWarning: You are using `torch.load` with `weights_only=False` (the current default value), which uses the default pickle module implicitly. It is possible to construct malicious pickle data which will execute arbitrary code during unpickling (See https://github.com/pytorch/pytorch/blob/main/SECURITY.md#untrusted-models for more details). In a future release, the default value for `weights_only` will be flipped to `True`. This limits the functions that could be executed during unpickling. Arbitrary objects will no longer be allowed to be loaded via this mode unless they are explicitly allowlisted by the user via `torch.serialization.add_safe_globals`. We recommend you start setting `weights_only=True` for any use case where you don't have full control of the loaded file. Please open an issue on GitHub for any issues related to this experimental feature.\n",
      "  weights = [t.load(f'./saved_runs/mod_digit_add_2024-09-13_22-37/{(i*100) - 5}.pth') for i in range(1,N+1)]\n"
     ]
    }
   ],
   "source": [
    "config = Config()\n",
    "N = 10\n",
    "models = [Transformer(config) for _ in range(N)]\n",
    "weights = [t.load(f'./saved_runs/mod_digit_add_2024-09-13_22-37/{(i*100) - 5}.pth') for i in range(1,N+1)]\n",
    "for i in range(N):\n",
    "    models[i].load_state_dict(weights[i]['model'])\n",
    "    models[i].eval()\n",
    "\n",
    "tokenizer = Tokenizer(config)"
   ]
  },
  {
   "cell_type": "code",
   "execution_count": 8,
   "metadata": {},
   "outputs": [
    {
     "name": "stdout",
     "output_type": "stream",
     "text": [
      "Calculating accuracy for model 195\n",
      "Accuracy: 7.12%, Count: 12769\n",
      "\n",
      "Calculating accuracy for model 395\n",
      "Accuracy: 72.18%, Count: 12769\n",
      "\n",
      "Calculating accuracy for model 595\n",
      "Accuracy: 89.12%, Count: 12769\n",
      "\n",
      "Calculating accuracy for model 795\n",
      "Accuracy: 91.71%, Count: 12769\n",
      "\n",
      "Calculating accuracy for model 995\n",
      "Accuracy: 94.60%, Count: 12769\n",
      "\n",
      "Calculating accuracy for model 1195\n",
      "Accuracy: 95.79%, Count: 12769\n",
      "\n",
      "Calculating accuracy for model 1395\n",
      "Accuracy: 96.86%, Count: 12769\n",
      "\n",
      "Calculating accuracy for model 1595\n",
      "Accuracy: 97.90%, Count: 12769\n",
      "\n",
      "Calculating accuracy for model 1795\n",
      "Accuracy: 98.46%, Count: 12769\n",
      "\n",
      "Calculating accuracy for model 1995\n",
      "Accuracy: 98.81%, Count: 12769\n",
      "\n"
     ]
    }
   ],
   "source": [
    "\n",
    "\n",
    "def get_accuracy(model):\n",
    "\n",
    "    correct = 0\n",
    "    count = 0\n",
    "    for i in range(113):\n",
    "        for j in range(113):\n",
    "            count += 1\n",
    "            correct_answer = (i + j) % 113\n",
    "            lsi = [int(k) for k in str(i)]\n",
    "            lsj = [int(k) for k in str(j)]\n",
    "            question = lsi + [10] + lsj + [11]\n",
    "\n",
    "            ll = len(question)\n",
    "            #print(\"q:\", question)\n",
    "            pred = model.generate_greedy(question)\n",
    "            answer = pred[ll: -1]\n",
    "            try:\n",
    "                answer = int(tokenizer.detokenize(answer))\n",
    "            except:\n",
    "                continue\n",
    "            #print(\"p\", pred)\n",
    "            #print(\"a\", answer)\n",
    "\n",
    "            if answer == correct_answer:\n",
    "                correct += 1\n",
    "            \n",
    "            print(f\"Accuracy: {(correct/count):.2%}, Count: {count}\", end = '\\r')\n",
    "    print('\\n')\n",
    "\n",
    "\n",
    "for i, model in enumerate(models):\n",
    "    print(f\"Calculating accuracy for model {(i+1)*200 - 5}\")\n",
    "    get_accuracy(model)\n",
    "\n",
    "         "
   ]
  },
  {
   "cell_type": "code",
   "execution_count": 40,
   "metadata": {},
   "outputs": [
    {
     "name": "stdout",
     "output_type": "stream",
     "text": [
      "Prediction: [1, 10, 2, 1, 11, 2, 2, 12]\n"
     ]
    }
   ],
   "source": [
    "test_sentence = \"1+1=\"\n",
    "test_sentence_tokenized = tokenizer.tokenize(test_sentence)\n",
    "\n",
    "pred = model.generate_greedy([1, 10, 2,1, 11])\n",
    "print(\"Prediction:\", pred)"
   ]
  },
  {
   "cell_type": "code",
   "execution_count": 41,
   "metadata": {},
   "outputs": [
    {
     "data": {
      "text/plain": [
       "[1, 10, 1, 11]"
      ]
     },
     "execution_count": 41,
     "metadata": {},
     "output_type": "execute_result"
    }
   ],
   "source": [
    "test_sentence_tokenized"
   ]
  },
  {
   "cell_type": "code",
   "execution_count": null,
   "metadata": {},
   "outputs": [],
   "source": []
  },
  {
   "cell_type": "code",
   "execution_count": null,
   "metadata": {},
   "outputs": [],
   "source": []
  }
 ],
 "metadata": {
  "kernelspec": {
   "display_name": "transformer-addition-length-generalization",
   "language": "python",
   "name": "python3"
  },
  "language_info": {
   "codemirror_mode": {
    "name": "ipython",
    "version": 3
   },
   "file_extension": ".py",
   "mimetype": "text/x-python",
   "name": "python",
   "nbconvert_exporter": "python",
   "pygments_lexer": "ipython3",
   "version": "3.12.4"
  }
 },
 "nbformat": 4,
 "nbformat_minor": 2
}
