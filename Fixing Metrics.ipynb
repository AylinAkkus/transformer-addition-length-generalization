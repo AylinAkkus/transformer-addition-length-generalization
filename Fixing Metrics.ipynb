{
 "cells": [
  {
   "cell_type": "code",
   "execution_count": 86,
   "metadata": {},
   "outputs": [],
   "source": [
    "from model import Transformer\n",
    "from config import Config\n",
    "from tokenizer import Tokenizer\n",
    "import torch as t\n",
    "import os\n",
    "import ast\n",
    "import pandas as pd\n",
    "import warnings\n",
    "\n",
    "warnings.filterwarnings(\"ignore\")"
   ]
  },
  {
   "cell_type": "code",
   "execution_count": 17,
   "metadata": {},
   "outputs": [],
   "source": [
    "# Load the model\n",
    "path = \"C:/Users/aylin/Documents/MechInt/transformer-addition-length-generalization/saved_runs/variable_digit_add_50/final.pth\"\n",
    "config = Config()\n",
    "model = Transformer(config)\n",
    "model.load_state_dict(t.load(path, map_location = t.device(\"cpu\"))[\"model\"])\n",
    "tokenizer = Tokenizer(config)"
   ]
  },
  {
   "cell_type": "code",
   "execution_count": 36,
   "metadata": {},
   "outputs": [],
   "source": [
    "def get_accuracy(model, maxnum = 100):\n",
    "\n",
    "    correct = 0\n",
    "    count = 0\n",
    "    for i in range(maxnum):\n",
    "        for j in range(maxnum):\n",
    "            count += 1\n",
    "            print(f\"Accuracy: {(correct/count):.2%}, Count: {count}\", end = '\\r')\n",
    "            correct_answer = (i + j)\n",
    "            lsi = [int(k) for k in str(i)]\n",
    "            lsj = [int(k) for k in str(j)]\n",
    "            question = lsi + [10] + lsj + [11]\n",
    "\n",
    "            ll = len(question)\n",
    "            #print(\"q:\", question)\n",
    "            pred = model.generate_greedy(question)\n",
    "            answer = pred[ll: -1]\n",
    "            # Convrt the answer to integer\n",
    "            try:\n",
    "                answer = int(tokenizer.detokenize(answer))\n",
    "            except:\n",
    "                print(\"Could not convert answer to integer\")\n",
    "\n",
    "            if answer == correct_answer:\n",
    "                correct += 1\n",
    "            \n",
    "            \n",
    "    print('\\n')"
   ]
  },
  {
   "cell_type": "code",
   "execution_count": 37,
   "metadata": {},
   "outputs": [
    {
     "name": "stdout",
     "output_type": "stream",
     "text": [
      "Calculating accuracy for the final model\n",
      "Accuracy: 99.62%, Count: 10000\n",
      "\n"
     ]
    }
   ],
   "source": [
    "print(\"Calculating accuracy for the final model\")\n",
    "get_accuracy(model)"
   ]
  },
  {
   "cell_type": "code",
   "execution_count": 123,
   "metadata": {},
   "outputs": [],
   "source": [
    "def extract_answer_from_prediction(pred):\n",
    "        \"\"\"\n",
    "        Takes the prediction and extracts the answer from it\n",
    "        pred: list of token ids like [0, 10, 0, 11, 0, 12, 13]\n",
    "        return: answer which is an integer like 0\n",
    "        \"\"\"\n",
    "        equal_tokenid = tokenizer.tokenize(\"=\")[0]\n",
    "        eos_tokenid = tokenizer.tokenize(\"EOS\")[0]\n",
    "        answer_start_idx = pred.index(equal_tokenid) + 1\n",
    "        answer_end_idx = pred.index(eos_tokenid)\n",
    "        answer = pred[answer_start_idx:answer_end_idx]\n",
    "        try:\n",
    "            answer = int(tokenizer.detokenize(answer))\n",
    "        except:\n",
    "            print(\"Could not convert answer to integer\")\n",
    "        return answer"
   ]
  },
  {
   "cell_type": "code",
   "execution_count": 161,
   "metadata": {},
   "outputs": [],
   "source": [
    "def select_results_n_digits(data, n):\n",
    "    \"\"\"\n",
    "    Selects the results with n or more digits\n",
    "    \"\"\"\n",
    "    return data[data[\"result\"].apply(lambda x: len(str(x)) >= n)]\n",
    "\n",
    "def get_counts(data):\n",
    "    \"\"\"\n",
    "    Initializes the counts for the metrics\n",
    "    \"\"\"\n",
    "    counts = {}\n",
    "    train = data[data[\"is_train\"]]\n",
    "    test = data[~data[\"is_train\"]]\n",
    "\n",
    "    print(\"len train\", len(train))\n",
    "    print(\"len test\", len(test))\n",
    "\n",
    "    # Counts for overall accuracy\n",
    "    counts[\"train_total\"] = len(train)\n",
    "    counts[\"test_total\"] = len(test)\n",
    "\n",
    "    # Counts for individual digits\n",
    "    max_len = len(str(train[\"result\"].max()))\n",
    "\n",
    "    for i in range(max_len):\n",
    "        train_n_digits = select_results_n_digits(train, i+1)\n",
    "        test_n_digits = select_results_n_digits(test, i+1)\n",
    "        counts[f\"train_digit_{i}\"] = len(train_n_digits)\n",
    "        counts[f\"test_digit_{i}\"] = len(test_n_digits)\n",
    "    return counts\n",
    "\n",
    "def get_frequencies(data):\n",
    "    \"\"\"\n",
    "    Calculates the frequencies for the metrics\n",
    "    \"\"\"\n",
    "    frequencies = {}\n",
    "    train = data[data[\"is_train\"]]\n",
    "    test = data[~data[\"is_train\"]]\n",
    "\n",
    "    def check_all_digits(pred, ground_truth, data):\n",
    "        \"\"\"\n",
    "        Updates the frequency for the all_digits metric\n",
    "        \"\"\"\n",
    "        # Initialize the dictionary entry\n",
    "        if data.equals(train) and \"train_total\" not in frequencies.keys():\n",
    "            frequencies['train_total'] = 0\n",
    "        elif not data.equals(train) and \"test_total\" not in frequencies.keys():\n",
    "            frequencies['test_total'] = 0\n",
    "\n",
    "        # Update the dictionary entry if the prediction is correct\n",
    "        if ground_truth == pred:\n",
    "\n",
    "            if data.equals(train):\n",
    "                frequencies['train_total'] += 1\n",
    "            else:\n",
    "                frequencies['test_total'] += 1\n",
    "\n",
    "    def check_individual_digits(pred, ground_truth, data):\n",
    "            \"\"\"\n",
    "            Updates the frequency for the individual digits metric\n",
    "            \"\"\"\n",
    "            # Fill shorter number with zeros\n",
    "            max_len = max(len(str(pred)), len(str(ground_truth)))\n",
    "            pred_str = f\"{pred:0{max_len}d}\"\n",
    "            ground_truth_str = f\"{ground_truth:0{max_len}d}\"\n",
    "            \n",
    "            assert len(pred_str) == len(ground_truth_str)\n",
    "\n",
    "            for i in range(len(pred_str)):\n",
    "                # Initialize the dictionary entry\n",
    "                if data.equals(train) and f\"train_digit_{i}\" not in frequencies.keys():\n",
    "                    frequencies[f'train_digit_{i}'] = 0\n",
    "                elif not data.equals(train) and f\"test_digit_{i}\" not in frequencies.keys():\n",
    "                    frequencies[f'test_digit_{i}'] = 0\n",
    "                \n",
    "                # Now update the dictionary entry if the prediction is correct\n",
    "                if pred_str[-(i+1)] == ground_truth_str[-(i+1)]:\n",
    "                    #print(\"correct digit prediction for digit \", i)\n",
    "                    #print(\"ground_truth:\", ground_truth_str)\n",
    "                    #print(\"pred:\", pred_str)\n",
    "                    if data.equals(train):\n",
    "                        frequencies[f'train_digit_{i}'] += 1\n",
    "                    else:\n",
    "                        frequencies[f'test_digit_{i}'] += 1\n",
    "                else:\n",
    "                    print(\"incorrect digit prediction for digit \", i)\n",
    "                    print(\"ground_truth:\", ground_truth_str)\n",
    "                    print(\"pred:\", pred_str)\n",
    "\n",
    "    # Calculate the accuracy (digits and overall) for train and test\n",
    "    for data in [train, test]:\n",
    "        for _, row in data.iterrows():\n",
    "\n",
    "            # Get the ground truth and prediction\n",
    "            ground_truth = int(row[\"result\"])\n",
    "            # Convert the tokenized input to a list\n",
    "            input_str = row[\"tokenized\"]\n",
    "            input = ast.literal_eval(input_str.strip())\n",
    "            pred = model.generate_greedy(input)\n",
    "            answer = extract_answer_from_prediction(pred)\n",
    "            # Check prediction and ground truth for each digit and overall\n",
    "            check_all_digits(answer, ground_truth, data)\n",
    "            check_individual_digits(answer, ground_truth, data)\n",
    "\n",
    "    return frequencies\n",
    "\n",
    "def take_metrics():\n",
    "    # We use the df instead of the dataset class for this\n",
    "    # because our generate greedy function is not batched\n",
    "    data_path = \"C:/Users/aylin/Documents/MechInt/transformer-addition-length-generalization/saved_runs/variable_digit_add_50/data.csv\"\n",
    "    data = pd.read_csv(data_path)\n",
    "\n",
    "    # Get counts\n",
    "    counts = get_counts(data)\n",
    "    print(\"counts\", counts)\n",
    "\n",
    "    # Get the frequencies\n",
    "    frequencies = get_frequencies(data)\n",
    "    print(\"frequencies\", frequencies)\n",
    "\n",
    "    # Calculate the accuracy from the frequencies and counts\n",
    "    metrics = {}\n",
    "    for key in frequencies.keys():\n",
    "        metrics[key + \"_accuracy\"] = frequencies[key] / counts[key]\n",
    "\n",
    "    print(\"metrics\", metrics)"
   ]
  },
  {
   "cell_type": "code",
   "execution_count": 162,
   "metadata": {},
   "outputs": [
    {
     "name": "stdout",
     "output_type": "stream",
     "text": [
      "len train 5030\n",
      "len test 4970\n",
      "counts {'train_total': 5030, 'test_total': 4970, 'train_digit_0': 5030, 'test_digit_0': 4970, 'train_digit_1': 4987, 'test_digit_1': 4958, 'train_digit_2': 2460, 'test_digit_2': 2490}\n",
      "frequencies {'train_total': 5030, 'train_digit_0': 5030, 'train_digit_1': 4987, 'train_digit_2': 2460, 'test_total': 4970, 'test_digit_0': 4970, 'test_digit_1': 4958, 'test_digit_2': 2490}\n",
      "frequencies {'train_total': 5030, 'train_digit_0': 5030, 'train_digit_1': 4987, 'train_digit_2': 2460, 'test_total': 4970, 'test_digit_0': 4970, 'test_digit_1': 4958, 'test_digit_2': 2490}\n",
      "metrics {'train_total_accuracy': 1.0, 'train_digit_0_accuracy': 1.0, 'train_digit_1_accuracy': 1.0, 'train_digit_2_accuracy': 1.0, 'test_total_accuracy': 1.0, 'test_digit_0_accuracy': 1.0, 'test_digit_1_accuracy': 1.0, 'test_digit_2_accuracy': 1.0}\n"
     ]
    }
   ],
   "source": [
    "take_metrics()"
   ]
  },
  {
   "cell_type": "code",
   "execution_count": 129,
   "metadata": {},
   "outputs": [
    {
     "name": "stdout",
     "output_type": "stream",
     "text": [
      "Test sentence: 56+52=\n",
      "Answer: 108\n"
     ]
    }
   ],
   "source": [
    "test_sentence = \"56+52=\"\n",
    "test_sentence_tokenized = tokenizer.tokenize(test_sentence)\n",
    "\n",
    "pred = model.generate_greedy(test_sentence_tokenized)\n",
    "answer = extract_answer_from_prediction(pred)\n",
    "print(\"Test sentence:\", test_sentence)\n",
    "print(\"Answer:\", answer)"
   ]
  },
  {
   "cell_type": "code",
   "execution_count": null,
   "metadata": {},
   "outputs": [],
   "source": []
  }
 ],
 "metadata": {
  "kernelspec": {
   "display_name": "transformer-addition-length-generalization",
   "language": "python",
   "name": "python3"
  },
  "language_info": {
   "codemirror_mode": {
    "name": "ipython",
    "version": 3
   },
   "file_extension": ".py",
   "mimetype": "text/x-python",
   "name": "python",
   "nbconvert_exporter": "python",
   "pygments_lexer": "ipython3",
   "version": "3.8.0"
  }
 },
 "nbformat": 4,
 "nbformat_minor": 2
}
