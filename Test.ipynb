{
 "cells": [
  {
   "cell_type": "code",
   "execution_count": 1,
   "metadata": {},
   "outputs": [],
   "source": [
    "import torch as t\n",
    "from config import Config\n",
    "from model import Transformer \n",
    "from tokenizer import Tokenizer\n",
    "from helpers import extract_answer_from_prediction, add_carry_columns_to_df\n",
    "import pandas as pd"
   ]
  },
  {
   "cell_type": "code",
   "execution_count": 2,
   "metadata": {},
   "outputs": [
    {
     "name": "stderr",
     "output_type": "stream",
     "text": [
      "C:\\Users\\aylin\\AppData\\Local\\Temp\\ipykernel_26588\\670764898.py:8: FutureWarning: You are using `torch.load` with `weights_only=False` (the current default value), which uses the default pickle module implicitly. It is possible to construct malicious pickle data which will execute arbitrary code during unpickling (See https://github.com/pytorch/pytorch/blob/main/SECURITY.md#untrusted-models for more details). In a future release, the default value for `weights_only` will be flipped to `True`. This limits the functions that could be executed during unpickling. Arbitrary objects will no longer be allowed to be loaded via this mode unless they are explicitly allowlisted by the user via `torch.serialization.add_safe_globals`. We recommend you start setting `weights_only=True` for any use case where you don't have full control of the loaded file. Please open an issue on GitHub for any issues related to this experimental feature.\n",
      "  model.load_state_dict(t.load(model_path, map_location = device)[\"model\"])\n"
     ]
    },
    {
     "data": {
      "text/plain": [
       "Transformer(\n",
       "  (embed): Embed()\n",
       "  (pos_embed): PosEmbed()\n",
       "  (blocks): ModuleList(\n",
       "    (0): TransformerBlock(\n",
       "      (attn): Attention(\n",
       "        (hook_k): HookPoint()\n",
       "        (hook_q): HookPoint()\n",
       "        (hook_v): HookPoint()\n",
       "        (hook_z): HookPoint()\n",
       "        (hook_attn): HookPoint()\n",
       "        (hook_attn_pre): HookPoint()\n",
       "      )\n",
       "      (mlp): MLP(\n",
       "        (hook_pre): HookPoint()\n",
       "        (hook_post): HookPoint()\n",
       "      )\n",
       "      (hook_attn_out): HookPoint()\n",
       "      (hook_mlp_out): HookPoint()\n",
       "      (hook_resid_pre): HookPoint()\n",
       "      (hook_resid_mid): HookPoint()\n",
       "      (hook_resid_post): HookPoint()\n",
       "    )\n",
       "  )\n",
       "  (unembed): Unembed()\n",
       ")"
      ]
     },
     "execution_count": 2,
     "metadata": {},
     "output_type": "execute_result"
    }
   ],
   "source": [
    "# Load the model\n",
    "config = Config()\n",
    "model_path = \"saved_runs/variable_digit_add_50/final.pth\"\n",
    "data_path = \"saved_runs/variable_digit_add_50/data.csv\"\n",
    "device = config.device\n",
    "tokenizer = Tokenizer(Config())\n",
    "model = Transformer(Config())\n",
    "model.load_state_dict(t.load(model_path, map_location = device)[\"model\"])\n",
    "model.eval()"
   ]
  },
  {
   "cell_type": "code",
   "execution_count": 3,
   "metadata": {},
   "outputs": [],
   "source": [
    "def print_output(activation, **kwargs):\n",
    "    name = kwargs.get('name', 'Unknown')  # Extract 'name' from kwargs, default to 'Unknown' if not provided\n",
    "    print(\"Shape: \", activation.shape) # batch, pos, model_dim\n",
    "    activation = activation.squeeze() # Remove the batch dimension\n",
    "    print(activation.shape)\n",
    "    print(activation[5])\n",
    "    print(activation[-1])\n",
    "\n",
    "\n",
    "\n",
    "model.blocks[-1].hook_resid_post.add_hook(print_output)"
   ]
  },
  {
   "cell_type": "code",
   "execution_count": 5,
   "metadata": {},
   "outputs": [
    {
     "name": "stdout",
     "output_type": "stream",
     "text": [
      "Shape:  torch.Size([1, 6, 128])\n",
      "torch.Size([6, 128])\n",
      "tensor([-8.4633e-01,  3.4301e+00,  1.7520e+00,  5.4776e+00,  8.0384e-01,\n",
      "        -3.6379e-01, -3.2777e+00, -4.5779e-01, -4.5844e+00,  3.6484e-01,\n",
      "         1.4355e+00, -1.1200e+00,  7.2587e+00,  1.7598e+00, -5.4393e+00,\n",
      "        -5.3964e-01,  1.1173e+00,  2.3651e+00, -2.6642e+00,  6.0701e-01,\n",
      "         4.0339e-01, -5.8980e+00,  2.8002e+00,  1.2947e+00, -4.1966e+00,\n",
      "         6.4486e-01, -2.7983e+00,  1.6651e+00,  3.8513e+00, -1.3720e+00,\n",
      "         3.7963e+00, -2.5433e+00, -2.1367e+00,  9.5165e-01, -1.1373e+00,\n",
      "        -1.2837e+00,  1.2577e-01,  1.8750e+00, -3.1673e+00,  5.4672e-01,\n",
      "        -1.6875e+00, -1.5171e+00,  1.1610e+00,  1.5412e-01, -1.7147e+00,\n",
      "         2.0506e+00,  2.5909e+00,  1.0924e+00,  2.0148e+00, -2.1096e+00,\n",
      "        -2.4144e+00,  5.0952e+00, -6.9171e+00, -3.0761e-01, -1.3255e+00,\n",
      "         4.4392e+00, -3.0502e+00, -1.5599e+00,  2.9326e+00, -3.8465e-01,\n",
      "        -4.6460e-01, -1.1718e+00, -2.2520e+00, -2.0272e+00, -2.1624e+00,\n",
      "         1.8330e+00,  4.7383e+00,  9.7076e-01,  3.1878e+00,  1.0536e+00,\n",
      "         1.5393e+00,  1.3268e+00, -1.1437e+00, -1.6910e+00,  4.2461e+00,\n",
      "        -1.1565e+00, -1.3881e+00, -2.4406e-01, -5.8182e+00, -2.5161e-01,\n",
      "        -2.0833e+00, -2.6666e+00,  1.1866e+00,  1.1227e+00,  2.4333e+00,\n",
      "         1.7048e+00, -4.3959e-01,  4.4292e-01,  6.5743e-03, -2.5905e+00,\n",
      "        -4.5914e+00, -2.1635e+00,  2.1118e+00,  1.7392e+00, -1.1511e+00,\n",
      "         3.5417e+00, -7.6890e-01,  8.1969e-01,  2.4687e+00, -1.5634e+00,\n",
      "        -3.8741e+00, -4.4878e+00, -9.7574e-01,  3.9564e+00,  2.0219e+00,\n",
      "         2.9912e+00, -1.0041e-01,  2.7689e+00, -8.1331e-01,  3.4190e+00,\n",
      "        -3.6642e+00, -4.9606e-01,  2.9026e+00,  2.7453e+00,  2.6202e+00,\n",
      "        -4.8225e-01,  3.2657e+00, -1.2532e+00, -2.3819e+00,  8.6625e-01,\n",
      "         3.6151e+00,  3.6421e+00,  1.3424e+00, -1.7523e-01,  4.9979e+00,\n",
      "         2.8150e+00, -1.2040e+00,  8.5813e-01])\n",
      "tensor([-8.4633e-01,  3.4301e+00,  1.7520e+00,  5.4776e+00,  8.0384e-01,\n",
      "        -3.6379e-01, -3.2777e+00, -4.5779e-01, -4.5844e+00,  3.6484e-01,\n",
      "         1.4355e+00, -1.1200e+00,  7.2587e+00,  1.7598e+00, -5.4393e+00,\n",
      "        -5.3964e-01,  1.1173e+00,  2.3651e+00, -2.6642e+00,  6.0701e-01,\n",
      "         4.0339e-01, -5.8980e+00,  2.8002e+00,  1.2947e+00, -4.1966e+00,\n",
      "         6.4486e-01, -2.7983e+00,  1.6651e+00,  3.8513e+00, -1.3720e+00,\n",
      "         3.7963e+00, -2.5433e+00, -2.1367e+00,  9.5165e-01, -1.1373e+00,\n",
      "        -1.2837e+00,  1.2577e-01,  1.8750e+00, -3.1673e+00,  5.4672e-01,\n",
      "        -1.6875e+00, -1.5171e+00,  1.1610e+00,  1.5412e-01, -1.7147e+00,\n",
      "         2.0506e+00,  2.5909e+00,  1.0924e+00,  2.0148e+00, -2.1096e+00,\n",
      "        -2.4144e+00,  5.0952e+00, -6.9171e+00, -3.0761e-01, -1.3255e+00,\n",
      "         4.4392e+00, -3.0502e+00, -1.5599e+00,  2.9326e+00, -3.8465e-01,\n",
      "        -4.6460e-01, -1.1718e+00, -2.2520e+00, -2.0272e+00, -2.1624e+00,\n",
      "         1.8330e+00,  4.7383e+00,  9.7076e-01,  3.1878e+00,  1.0536e+00,\n",
      "         1.5393e+00,  1.3268e+00, -1.1437e+00, -1.6910e+00,  4.2461e+00,\n",
      "        -1.1565e+00, -1.3881e+00, -2.4406e-01, -5.8182e+00, -2.5161e-01,\n",
      "        -2.0833e+00, -2.6666e+00,  1.1866e+00,  1.1227e+00,  2.4333e+00,\n",
      "         1.7048e+00, -4.3959e-01,  4.4292e-01,  6.5743e-03, -2.5905e+00,\n",
      "        -4.5914e+00, -2.1635e+00,  2.1118e+00,  1.7392e+00, -1.1511e+00,\n",
      "         3.5417e+00, -7.6890e-01,  8.1969e-01,  2.4687e+00, -1.5634e+00,\n",
      "        -3.8741e+00, -4.4878e+00, -9.7574e-01,  3.9564e+00,  2.0219e+00,\n",
      "         2.9912e+00, -1.0041e-01,  2.7689e+00, -8.1331e-01,  3.4190e+00,\n",
      "        -3.6642e+00, -4.9606e-01,  2.9026e+00,  2.7453e+00,  2.6202e+00,\n",
      "        -4.8225e-01,  3.2657e+00, -1.2532e+00, -2.3819e+00,  8.6625e-01,\n",
      "         3.6151e+00,  3.6421e+00,  1.3424e+00, -1.7523e-01,  4.9979e+00,\n",
      "         2.8150e+00, -1.2040e+00,  8.5813e-01])\n"
     ]
    }
   ],
   "source": [
    "tokenizer = Tokenizer(Config())\n",
    "\n",
    "test_sentence = \"56+52=\"\n",
    "test_sentence_tokenized = [tokenizer.tokenize(test_sentence)]\n",
    "\n",
    "test_sentence_tokenized = t.tensor(test_sentence_tokenized).to(device)\n",
    "with t.no_grad():\n",
    "    output = model(test_sentence_tokenized)\n"
   ]
  }
 ],
 "metadata": {
  "kernelspec": {
   "display_name": "transformer-addition-length-generalization",
   "language": "python",
   "name": "python3"
  },
  "language_info": {
   "codemirror_mode": {
    "name": "ipython",
    "version": 3
   },
   "file_extension": ".py",
   "mimetype": "text/x-python",
   "name": "python",
   "nbconvert_exporter": "python",
   "pygments_lexer": "ipython3",
   "version": "3.8.0"
  }
 },
 "nbformat": 4,
 "nbformat_minor": 2
}
