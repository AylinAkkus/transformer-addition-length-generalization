{
 "cells": [
  {
   "cell_type": "code",
   "execution_count": 1,
   "metadata": {},
   "outputs": [
    {
     "name": "stdout",
     "output_type": "stream",
     "text": [
      "Using device: cpu\n",
      "fixed_digit: False\n",
      "Training for 3000 epochs\n",
      "Batch size: 256\n",
      "Learning rate: 0.001\n",
      "Train on 0.5 of the data\n",
      "Saving model every 5 epochs\n"
     ]
    }
   ],
   "source": [
    "from model import Transformer\n",
    "from config import Config\n",
    "from tokenizer import Tokenizer\n",
    "import torch as t\n",
    "import warnings\n",
    "from helpers import take_metrics, extract_answer_from_prediction\n",
    "\n",
    "warnings.filterwarnings(\"ignore\")"
   ]
  },
  {
   "cell_type": "code",
   "execution_count": 4,
   "metadata": {},
   "outputs": [],
   "source": [
    "# Load the model\n",
    "model_path = \"saved_runs/variable_digit_add_30/final.pth\"\n",
    "dir_path = \"saved_runs/variable_digit_add_30\""
   ]
  },
  {
   "cell_type": "code",
   "execution_count": 5,
   "metadata": {},
   "outputs": [
    {
     "name": "stdout",
     "output_type": "stream",
     "text": [
      "dir_path saved_runs/variable_digit_add_30\n",
      "data_path saved_runs/variable_digit_add_30\\data.csv\n"
     ]
    }
   ],
   "source": [
    "take_metrics(model_path, dir_path)"
   ]
  },
  {
   "cell_type": "code",
   "execution_count": 12,
   "metadata": {},
   "outputs": [
    {
     "name": "stdout",
     "output_type": "stream",
     "text": [
      "Test sentence: 56+52=\n",
      "Answer: 108\n"
     ]
    }
   ],
   "source": [
    "device = t.device(\"cuda\" if t.cuda.is_available() else \"cpu\")\n",
    "tokenizer = Tokenizer(Config())\n",
    "model = Transformer(Config())\n",
    "model.load_state_dict(t.load(model_path, map_location = device)[\"model\"])\n",
    "model.eval()\n",
    "\n",
    "test_sentence = \"56+52=\"\n",
    "test_sentence_tokenized = tokenizer.tokenize(test_sentence)\n",
    "\n",
    "pred = model.generate_greedy(test_sentence_tokenized)\n",
    "answer = extract_answer_from_prediction(pred, tokenizer)\n",
    "print(\"Test sentence:\", test_sentence)\n",
    "print(\"Answer:\", answer)"
   ]
  },
  {
   "cell_type": "code",
   "execution_count": null,
   "metadata": {},
   "outputs": [],
   "source": []
  },
  {
   "cell_type": "code",
   "execution_count": null,
   "metadata": {},
   "outputs": [],
   "source": []
  },
  {
   "cell_type": "code",
   "execution_count": null,
   "metadata": {},
   "outputs": [],
   "source": []
  },
  {
   "cell_type": "code",
   "execution_count": null,
   "metadata": {},
   "outputs": [],
   "source": []
  }
 ],
 "metadata": {
  "kernelspec": {
   "display_name": "transformer-addition-length-generalization",
   "language": "python",
   "name": "python3"
  },
  "language_info": {
   "codemirror_mode": {
    "name": "ipython",
    "version": 3
   },
   "file_extension": ".py",
   "mimetype": "text/x-python",
   "name": "python",
   "nbconvert_exporter": "python",
   "pygments_lexer": "ipython3",
   "version": "3.8.0"
  }
 },
 "nbformat": 4,
 "nbformat_minor": 2
}
