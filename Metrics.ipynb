{
 "cells": [
  {
   "cell_type": "code",
   "execution_count": 1,
   "metadata": {},
   "outputs": [],
   "source": [
    "from model import Transformer\n",
    "from config import Config\n",
    "from tokenizer import Tokenizer\n",
    "import torch as t\n",
    "import warnings\n",
    "import json\n",
    "from helpers import take_metrics, extract_answer_from_prediction\n",
    "\n",
    "warnings.filterwarnings(\"ignore\")"
   ]
  },
  {
   "cell_type": "code",
   "execution_count": 2,
   "metadata": {},
   "outputs": [
    {
     "data": {
      "text/plain": [
       "Config(lr=0.001, weight_decay=1.0, batch_size=256, p=100, d_model=128, fn_name='add', frac_train=0.3, num_epochs=3000, save_models=True, save_every=5, fixed_digit=False, n_warmup=10, stopping_thresh=-1, seed=0, num_layers=1, batch_style='full', d_vocab=14, num_digits=3, n_ctx=12, d_mlp=512, num_heads=4, act_type='ReLU', device=device(type='cuda'), use_ln=False, take_metrics_every_n_epochs=10)"
      ]
     },
     "execution_count": 2,
     "metadata": {},
     "output_type": "execute_result"
    }
   ],
   "source": [
    "dir_path = \"saved_runs/variable_digit_add_30\"\n",
    "\n",
    "# read the config file\n",
    "config_dict = json.load(open(f\"{dir_path}/config.json\"))\n",
    "config = Config(**config_dict)\n",
    "config"
   ]
  },
  {
   "cell_type": "code",
   "execution_count": 3,
   "metadata": {},
   "outputs": [],
   "source": [
    "def get_intermediate_model_paths(dir_path, beginning, end, num_models):\n",
    "    '''\n",
    "    if the granularity doesn't work function will simply fail when you try to load the models\n",
    "    call this responsibly :)\n",
    "    '''\n",
    "    intervals = t.linspace(beginning, end, num_models+1).int()[1:-1].tolist()\n",
    "    return intervals, [dir_path + f'/models/{num}.pth' for num in intervals] "
   ]
  },
  {
   "cell_type": "code",
   "execution_count": 10,
   "metadata": {},
   "outputs": [
    {
     "name": "stdout",
     "output_type": "stream",
     "text": [
      "[0, 5, 10, 15, 20, 25, 30, 35, 40, 45, 50, 55, 60, 65, 70, 75, 80, 85, 90, 95, 100, 120, 140, 160, 180, 200, 220, 240, 260, 280, 300, 840, 1380, 1920, 2460, 3000]\n"
     ]
    }
   ],
   "source": [
    "total_epochs = 3000\n",
    "mid_points = [0, 10, 100, 300, 3000]\n",
    "model_numbers = [2, 18, 10, 5]\n",
    "\n",
    "assert len(mid_points) == len(model_numbers) + 1\n",
    "\n",
    "model_paths = [dir_path + '/init.pth']\n",
    "indices = [0]\n",
    "\n",
    "for i in range(len(model_numbers)):\n",
    "    new_indices, new_model_paths = get_intermediate_model_paths(dir_path, mid_points[i], mid_points[i+1], model_numbers[i])\n",
    "    indices += new_indices\n",
    "    model_paths += new_model_paths\n",
    "    if mid_points[i+1] != total_epochs:\n",
    "        indices.append(mid_points[i+1])\n",
    "        model_paths.append(dir_path + f'/models/{mid_points[i+1]}.pth')\n",
    "\n",
    "indices.append(total_epochs)\n",
    "model_paths.append(dir_path + f'/final.pth')\n",
    "\n",
    "print(indices)"
   ]
  },
  {
   "cell_type": "code",
   "execution_count": 11,
   "metadata": {},
   "outputs": [
    {
     "name": "stdout",
     "output_type": "stream",
     "text": [
      "Taking metrics for model 0:\n",
      "{'train_total_accuracy': 0.0, 'test_total_accuracy': 0.0}\n",
      "\n",
      "Taking metrics for model 5:\n",
      "{'train_total_accuracy': 0.0006557377049180328, 'test_total_accuracy': 0.0005755395683453237, 'train_digit_0_accuracy': 0.09901639344262295, 'train_digit_1_accuracy': 0.0934486198869305, 'train_digit_2_accuracy': 0.09054325955734406, 'test_digit_0_accuracy': 0.10503597122302158, 'test_digit_1_accuracy': 0.08777745748054194, 'test_digit_2_accuracy': 0.10320901994796183}\n",
      "\n",
      "Taking metrics for model 10:\n",
      "{'train_total_accuracy': 0.01377049180327869, 'test_total_accuracy': 0.007194244604316547, 'train_digit_0_accuracy': 0.11147540983606558, 'train_digit_1_accuracy': 0.15563684735616895, 'train_digit_2_accuracy': 0.4842387659289068, 'test_digit_0_accuracy': 0.1097841726618705, 'test_digit_1_accuracy': 0.14932257134620927, 'test_digit_2_accuracy': 0.4663197455912113}\n",
      "\n",
      "Taking metrics for model 15:\n",
      "{'train_total_accuracy': 0.12229508196721312, 'test_total_accuracy': 0.07913669064748201, 'train_digit_0_accuracy': 0.1659016393442623, 'test_digit_0_accuracy': 0.1181294964028777, 'test_digit_1_accuracy': 0.580426635918132, 'train_digit_1_accuracy': 0.625207848353841, 'test_digit_2_accuracy': 0.9757155247181266, 'train_digit_2_accuracy': 0.9765258215962441}\n",
      "\n",
      "Taking metrics for model 20:\n",
      "{'train_total_accuracy': 0.28491803278688527, 'test_total_accuracy': 0.2181294964028777, 'train_digit_0_accuracy': 0.3639344262295082, 'test_digit_0_accuracy': 0.29784172661870506, 'train_digit_1_accuracy': 0.7472564017292983, 'test_digit_1_accuracy': 0.7176419717497838, 'test_digit_2_accuracy': 0.9719572130673605, 'train_digit_2_accuracy': 0.9725016767270288}\n",
      "\n",
      "Taking metrics for model 25:\n",
      "{'train_total_accuracy': 0.6049180327868853, 'test_total_accuracy': 0.5428776978417266, 'train_digit_0_accuracy': 0.760655737704918, 'test_digit_0_accuracy': 0.7084892086330935, 'train_digit_1_accuracy': 0.78084469571001, 'test_digit_1_accuracy': 0.7598731622946094, 'test_digit_2_accuracy': 0.9760046256143394, 'train_digit_2_accuracy': 0.9778672032193159}\n",
      "\n",
      "Taking metrics for model 30:\n",
      "{'train_total_accuracy': 0.8065573770491803, 'test_total_accuracy': 0.7489208633093525, 'train_digit_0_accuracy': 0.9262295081967213, 'test_digit_0_accuracy': 0.902589928057554, 'train_digit_1_accuracy': 0.8550049883604922, 'test_digit_1_accuracy': 0.8230037474776593, 'test_digit_2_accuracy': 0.9791847354726799, 'train_digit_2_accuracy': 0.9859154929577465}\n",
      "\n",
      "Taking metrics for model 35:\n",
      "{'train_total_accuracy': 0.8632786885245901, 'test_total_accuracy': 0.7958273381294964, 'train_digit_0_accuracy': 0.9606557377049181, 'train_digit_1_accuracy': 0.8902560691719321, 'test_digit_0_accuracy': 0.9293525179856115, 'test_digit_1_accuracy': 0.8495243586047853, 'train_digit_2_accuracy': 0.994634473507713, 'test_digit_2_accuracy': 0.9864122578779995}\n",
      "\n",
      "Taking metrics for model 40:\n",
      "{'train_total_accuracy': 0.899344262295082, 'test_total_accuracy': 0.8457553956834533, 'train_digit_0_accuracy': 0.9704918032786886, 'test_digit_0_accuracy': 0.9458992805755395, 'train_digit_1_accuracy': 0.9195211173927502, 'test_digit_1_accuracy': 0.8897376765638513, 'test_digit_2_accuracy': 0.9797629372651055, 'train_digit_2_accuracy': 0.9892689470154259}\n",
      "\n",
      "Taking metrics for model 45:\n",
      "{'train_total_accuracy': 0.9065573770491804, 'test_total_accuracy': 0.8592805755395684, 'train_digit_0_accuracy': 0.9740983606557377, 'test_digit_0_accuracy': 0.9515107913669065, 'train_digit_1_accuracy': 0.9238443631526438, 'test_digit_1_accuracy': 0.8978091669068896, 'test_digit_2_accuracy': 0.986990459670425, 'train_digit_2_accuracy': 0.9932930918846412}\n",
      "\n",
      "Taking metrics for model 50:\n",
      "{'train_total_accuracy': 0.9265573770491803, 'test_total_accuracy': 0.8828776978417266, 'train_digit_0_accuracy': 0.9832786885245902, 'test_digit_0_accuracy': 0.9585611510791366, 'train_digit_1_accuracy': 0.9391420019953441, 'test_digit_1_accuracy': 0.9175554914961084, 'test_digit_2_accuracy': 0.9959525874530211, 'train_digit_2_accuracy': 0.9993293091884641}\n",
      "\n",
      "Taking metrics for model 55:\n",
      "{'train_total_accuracy': 0.9098360655737705, 'test_total_accuracy': 0.8789928057553957, 'train_digit_0_accuracy': 0.9813114754098361, 'test_digit_0_accuracy': 0.963021582733813, 'train_digit_1_accuracy': 0.9238443631526438, 'test_digit_1_accuracy': 0.9086191986163159, 'test_digit_2_accuracy': 0.9933506793871061, 'train_digit_2_accuracy': 0.9993293091884641}\n",
      "\n",
      "Taking metrics for model 60:\n",
      "{'train_total_accuracy': 0.9272131147540984, 'test_total_accuracy': 0.8866187050359712, 'train_digit_0_accuracy': 0.98, 'test_digit_0_accuracy': 0.962589928057554, 'train_digit_1_accuracy': 0.9391420019953441, 'test_digit_1_accuracy': 0.9140962813490919, 'test_digit_2_accuracy': 0.9919051749060422, 'train_digit_2_accuracy': 0.9966465459423206}\n",
      "\n",
      "Taking metrics for model 65:\n",
      "{'train_total_accuracy': 0.9465573770491803, 'test_total_accuracy': 0.903453237410072, 'train_digit_0_accuracy': 0.9898360655737705, 'test_digit_0_accuracy': 0.9687769784172662, 'train_digit_1_accuracy': 0.9547721982041902, 'test_digit_1_accuracy': 0.9298068607667915, 'test_digit_2_accuracy': 0.9921942758022549, 'train_digit_2_accuracy': 0.9979879275653923}\n",
      "\n",
      "Taking metrics for model 70:\n",
      "{'train_total_accuracy': 0.9475409836065574, 'test_total_accuracy': 0.9132374100719425, 'train_digit_0_accuracy': 0.9918032786885246, 'test_digit_0_accuracy': 0.9709352517985611, 'train_digit_1_accuracy': 0.953109411373462, 'test_digit_1_accuracy': 0.9380224848659556, 'test_digit_2_accuracy': 0.9950852847643827, 'train_digit_2_accuracy': 0.9986586183769283}\n",
      "\n",
      "Taking metrics for model 75:\n",
      "{'train_total_accuracy': 0.9488524590163935, 'test_total_accuracy': 0.9148201438848921, 'train_digit_0_accuracy': 0.9875409836065574, 'test_digit_0_accuracy': 0.9658992805755395, 'train_digit_1_accuracy': 0.9544396408380446, 'test_digit_1_accuracy': 0.9401844912078409, 'test_digit_2_accuracy': 0.99479618386817, 'train_digit_2_accuracy': 0.9979879275653923}\n",
      "\n",
      "Taking metrics for model 80:\n",
      "{'train_total_accuracy': 0.9518032786885245, 'test_total_accuracy': 0.92, 'train_digit_0_accuracy': 0.9921311475409836, 'test_digit_0_accuracy': 0.9749640287769784, 'train_digit_1_accuracy': 0.9567675424010642, 'test_digit_1_accuracy': 0.9409051599884694, 'test_digit_2_accuracy': 0.9962416883492339, 'train_digit_2_accuracy': 0.9986586183769283}\n",
      "\n",
      "Taking metrics for model 85:\n",
      "{'train_total_accuracy': 0.9619672131147541, 'test_total_accuracy': 0.9270503597122303, 'train_digit_0_accuracy': 0.9931147540983607, 'test_digit_0_accuracy': 0.9733812949640288, 'train_digit_1_accuracy': 0.966744263385434, 'test_digit_1_accuracy': 0.9472470452579994, 'test_digit_2_accuracy': 0.9994217982075745, 'train_digit_2_accuracy': 1.0}\n",
      "\n",
      "Taking metrics for model 90:\n",
      "{'train_total_accuracy': 0.959344262295082, 'test_total_accuracy': 0.9251798561151079, 'train_digit_0_accuracy': 0.9937704918032787, 'test_digit_0_accuracy': 0.9766906474820144, 'train_digit_1_accuracy': 0.9620884602593948, 'test_digit_1_accuracy': 0.9426347650619775, 'test_digit_2_accuracy': 0.9884359641514888, 'train_digit_2_accuracy': 0.994634473507713}\n",
      "\n",
      "Taking metrics for model 95:\n",
      "{'train_total_accuracy': 0.9613114754098361, 'test_total_accuracy': 0.9253237410071943, 'train_digit_0_accuracy': 0.9937704918032787, 'test_digit_0_accuracy': 0.9766906474820144, 'train_digit_1_accuracy': 0.9644163618224144, 'test_digit_1_accuracy': 0.9434995675987317, 'test_digit_2_accuracy': 0.9890141659439144, 'train_digit_2_accuracy': 0.9953051643192489}\n",
      "\n",
      "Taking metrics for model 100:\n",
      "{'train_total_accuracy': 0.960327868852459, 'test_total_accuracy': 0.9220143884892086, 'train_digit_0_accuracy': 0.9940983606557378, 'test_digit_0_accuracy': 0.9749640287769784, 'train_digit_1_accuracy': 0.9644163618224144, 'test_digit_1_accuracy': 0.9424906313058519, 'test_digit_2_accuracy': 0.9971089910378722, 'train_digit_2_accuracy': 1.0}\n",
      "\n",
      "Taking metrics for model 120:\n",
      "{'train_total_accuracy': 0.9704918032786886, 'test_total_accuracy': 0.9319424460431655, 'train_digit_0_accuracy': 0.9973770491803279, 'test_digit_0_accuracy': 0.9781294964028777, 'train_digit_1_accuracy': 0.9723977386099102, 'test_digit_1_accuracy': 0.9489766503315077, 'test_digit_2_accuracy': 0.99479618386817, 'train_digit_2_accuracy': 0.9986586183769283}\n",
      "\n",
      "Taking metrics for model 140:\n",
      "{'train_total_accuracy': 0.9862295081967213, 'test_total_accuracy': 0.9513669064748201, 'train_digit_0_accuracy': 0.9963934426229508, 'test_digit_0_accuracy': 0.9735251798561151, 'train_digit_1_accuracy': 0.9866977053541736, 'test_digit_1_accuracy': 0.9713173825309888, 'test_digit_2_accuracy': 0.9982653946227233, 'train_digit_2_accuracy': 1.0}\n",
      "\n",
      "Taking metrics for model 160:\n",
      "{'train_total_accuracy': 0.9927868852459016, 'test_total_accuracy': 0.9601438848920864, 'train_digit_0_accuracy': 0.9983606557377049, 'test_digit_0_accuracy': 0.9776978417266187, 'train_digit_1_accuracy': 0.9933488526770868, 'test_digit_1_accuracy': 0.9767944652637648, 'test_digit_2_accuracy': 0.9979762937265105, 'train_digit_2_accuracy': 1.0}\n",
      "\n",
      "Taking metrics for model 180:\n",
      "{'train_total_accuracy': 0.9888524590163934, 'test_total_accuracy': 0.9611510791366906, 'train_digit_0_accuracy': 0.9973770491803279, 'test_digit_0_accuracy': 0.980431654676259, 'train_digit_1_accuracy': 0.9910209511140672, 'test_digit_1_accuracy': 0.9763620639953877, 'test_digit_2_accuracy': 0.9893032668401271, 'train_digit_2_accuracy': 0.9959758551307847}\n",
      "\n",
      "Taking metrics for model 200:\n",
      "{'train_total_accuracy': 0.9970491803278688, 'test_total_accuracy': 0.9692086330935252, 'train_digit_0_accuracy': 0.9990163934426229, 'test_digit_0_accuracy': 0.9792805755395684, 'train_digit_1_accuracy': 0.9970069837046891, 'test_digit_1_accuracy': 0.9847218218506775, 'test_digit_2_accuracy': 0.9991326973113617, 'train_digit_2_accuracy': 1.0}\n",
      "\n",
      "Taking metrics for model 220:\n",
      "{'train_total_accuracy': 0.9914754098360655, 'test_total_accuracy': 0.9635971223021583, 'train_digit_0_accuracy': 0.9977049180327869, 'test_digit_0_accuracy': 0.9797122302158273, 'train_digit_1_accuracy': 0.9920186232125041, 'test_digit_1_accuracy': 0.9780916690688959, 'test_digit_2_accuracy': 0.9991326973113617, 'train_digit_2_accuracy': 1.0}\n",
      "\n",
      "Taking metrics for model 240:\n",
      "{'train_total_accuracy': 0.9918032786885246, 'test_total_accuracy': 0.9650359712230215, 'train_digit_0_accuracy': 0.9934426229508196, 'test_digit_0_accuracy': 0.977410071942446, 'train_digit_1_accuracy': 0.9950116395078151, 'test_digit_1_accuracy': 0.9803978091669069, 'test_digit_2_accuracy': 0.9997108991037872, 'train_digit_2_accuracy': 1.0}\n",
      "\n",
      "Taking metrics for model 260:\n",
      "{'train_total_accuracy': 0.9921311475409836, 'test_total_accuracy': 0.9653237410071942, 'train_digit_0_accuracy': 0.9967213114754099, 'test_digit_0_accuracy': 0.978273381294964, 'train_digit_1_accuracy': 0.9920186232125041, 'test_digit_1_accuracy': 0.9776592678005189, 'test_digit_2_accuracy': 0.9988435964151489, 'train_digit_2_accuracy': 1.0}\n",
      "\n",
      "Taking metrics for model 280:\n",
      "{'train_total_accuracy': 0.9983606557377049, 'test_total_accuracy': 0.9693525179856115, 'train_digit_0_accuracy': 0.9996721311475409, 'test_digit_0_accuracy': 0.9797122302158273, 'train_digit_1_accuracy': 0.9986697705354174, 'test_digit_1_accuracy': 0.9847218218506775, 'test_digit_2_accuracy': 0.9988435964151489, 'train_digit_2_accuracy': 1.0}\n",
      "\n",
      "Taking metrics for model 300:\n",
      "{'train_total_accuracy': 0.9990163934426229, 'test_total_accuracy': 0.9723741007194244, 'train_digit_0_accuracy': 1.0, 'test_digit_0_accuracy': 0.983453237410072, 'train_digit_1_accuracy': 0.9990023279015631, 'test_digit_1_accuracy': 0.9854424906313058, 'test_digit_2_accuracy': 0.9985544955189362, 'train_digit_2_accuracy': 1.0}\n",
      "\n",
      "Taking metrics for model 840:\n",
      "{'train_total_accuracy': 1.0, 'test_total_accuracy': 0.9814388489208633, 'train_digit_0_accuracy': 1.0, 'test_digit_0_accuracy': 0.9884892086330935, 'train_digit_1_accuracy': 1.0, 'test_digit_1_accuracy': 0.9910637071202075, 'test_digit_2_accuracy': 0.9994217982075745, 'train_digit_2_accuracy': 1.0}\n",
      "\n",
      "Taking metrics for model 1380:\n",
      "{'train_total_accuracy': 0.9983606557377049, 'test_total_accuracy': 0.9807194244604317, 'train_digit_0_accuracy': 0.9996721311475409, 'test_digit_0_accuracy': 0.9876258992805755, 'train_digit_1_accuracy': 0.9986697705354174, 'test_digit_1_accuracy': 0.9912078408763333, 'test_digit_2_accuracy': 0.9979762937265105, 'train_digit_2_accuracy': 1.0}\n",
      "\n",
      "Taking metrics for model 1920:\n",
      "{'train_total_accuracy': 1.0, 'test_total_accuracy': 0.9805755395683453, 'train_digit_0_accuracy': 1.0, 'test_digit_0_accuracy': 0.9869064748201439, 'train_digit_1_accuracy': 1.0, 'test_digit_1_accuracy': 0.9910637071202075, 'test_digit_2_accuracy': 0.9976871928302977, 'train_digit_2_accuracy': 1.0}\n",
      "\n",
      "Taking metrics for model 2460:\n",
      "{'train_total_accuracy': 1.0, 'test_total_accuracy': 0.9811510791366906, 'train_digit_0_accuracy': 1.0, 'test_digit_0_accuracy': 0.9873381294964029, 'train_digit_1_accuracy': 1.0, 'test_digit_1_accuracy': 0.9910637071202075, 'test_digit_2_accuracy': 0.9985544955189362, 'train_digit_2_accuracy': 1.0}\n",
      "\n",
      "Taking metrics for model 3000:\n",
      "{'train_total_accuracy': 1.0, 'test_total_accuracy': 0.9814388489208633, 'train_digit_0_accuracy': 1.0, 'test_digit_0_accuracy': 0.9874820143884893, 'train_digit_1_accuracy': 1.0, 'test_digit_1_accuracy': 0.9909195733640819, 'test_digit_2_accuracy': 0.9982653946227233, 'train_digit_2_accuracy': 1.0}\n",
      "\n"
     ]
    }
   ],
   "source": [
    "all_metrics = []\n",
    "\n",
    "for i in range(len(model_paths)):\n",
    "    print(f\"Taking metrics for model {indices[i]}:\")\n",
    "    metrics = take_metrics(model_paths[i], dir_path)\n",
    "    print(metrics)\n",
    "    print()\n",
    "    all_metrics.append(metrics)\n"
   ]
  },
  {
   "cell_type": "code",
   "execution_count": 15,
   "metadata": {},
   "outputs": [
    {
     "data": {
      "text/plain": [
       "['test_digit_0_accuracy', 'test_digit_1_accuracy', 'test_digit_2_accuracy']"
      ]
     },
     "execution_count": 15,
     "metadata": {},
     "output_type": "execute_result"
    }
   ],
   "source": [
    "test_digit_keys = [key for key in all_metrics[-1].keys() if 'test_digit' in key]\n",
    "test_digit_keys"
   ]
  },
  {
   "cell_type": "code",
   "execution_count": 18,
   "metadata": {},
   "outputs": [],
   "source": [
    "N_digit = 3\n",
    "test_digit_accuracy = dict()\n",
    "for i in range(N_digit):\n",
    "    k = f'test_digit_{i}_accuracy'\n",
    "    test_digit_accuracy[i] = [metrics.get(k, 0.0) for metrics in all_metrics]\n",
    "\n"
   ]
  },
  {
   "cell_type": "code",
   "execution_count": 23,
   "metadata": {},
   "outputs": [
    {
     "data": {
      "image/png": "[encoded data removed]",
      "text/plain": [
       "<Figure size 640x480 with 1 Axes>"
      ]
     },
     "metadata": {},
     "output_type": "display_data"
    }
   ],
   "source": [
    "# plot each key in test digit accuracy with indices\n",
    "\n",
    "import matplotlib.pyplot as plt\n",
    "\n",
    "plot_first = 15\n",
    "\n",
    "for i in range(N_digit):\n",
    "    plt.plot(indices[:plot_first], test_digit_accuracy[i][:plot_first], label=f\"Digit {i}\")\n",
    "\n",
    "plt.legend()\n",
    "plt.title(\"Test Digit Accuracy\")\n",
    "plt.xlabel(\"Epoch\")\n",
    "plt.ylabel(\"Accuracy\")\n",
    "plt.show()\n"
   ]
  },
  {
   "cell_type": "code",
   "execution_count": null,
   "metadata": {},
   "outputs": [],
   "source": []
  }
 ],
 "metadata": {
  "kernelspec": {
   "display_name": "transformer-addition-length-generalization",
   "language": "python",
   "name": "python3"
  },
  "language_info": {
   "codemirror_mode": {
    "name": "ipython",
    "version": 3
   },
   "file_extension": ".py",
   "mimetype": "text/x-python",
   "name": "python",
   "nbconvert_exporter": "python",
   "pygments_lexer": "ipython3",
   "version": "3.12.4"
  }
 },
 "nbformat": 4,
 "nbformat_minor": 2
}
